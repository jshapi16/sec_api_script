{
 "cells": [
  {
   "cell_type": "code",
   "execution_count": null,
   "id": "bd449c5d",
   "metadata": {},
   "outputs": [],
   "source": [
    "import pandas as pd\n",
    "import requests\n",
    "import pprint\n",
    "import os\n",
    "import json\n",
    "import edgar\n",
    "import numpy as np\n",
    "import time\n",
    "from config import api_key "
   ]
  },
  {
   "cell_type": "markdown",
   "id": "f5a25902",
   "metadata": {},
   "source": [
    "# Read in CIK Spreadsheet"
   ]
  },
  {
   "cell_type": "code",
   "execution_count": null,
   "id": "e6f8e38c",
   "metadata": {},
   "outputs": [],
   "source": [
    "df= pd.read_csv(\"fortune_200.csv\", converters={'CIK': lambda x: str(x)})"
   ]
  },
  {
   "cell_type": "code",
   "execution_count": null,
   "id": "911fda4d",
   "metadata": {},
   "outputs": [],
   "source": [
    "cik_list = df[\"CIK\"][0:50].tolist()\n",
    "cik_list"
   ]
  },
  {
   "cell_type": "markdown",
   "id": "d5b23a15",
   "metadata": {},
   "source": [
    "# Testing with list"
   ]
  },
  {
   "cell_type": "code",
   "execution_count": null,
   "id": "36757797",
   "metadata": {},
   "outputs": [],
   "source": [
    "#Empty list to store the dictionary\n",
    "capex_filing = []\n",
    "\n",
    "#Make a counter for the sleep timer \n",
    "counter = 0\n",
    "group = 1\n",
    "\n",
    "#API Query\n",
    "base_url = \"https://data.sec.gov/api/xbrl/companyfacts/CIK\"\n",
    "header=api_key"
   ]
  },
  {
   "cell_type": "code",
   "execution_count": null,
   "id": "d3975606",
   "metadata": {},
   "outputs": [],
   "source": [
    "for cik in cik_list:\n",
    "    try:\n",
    "        query_url = base_url+cik+\".json\"\n",
    "        response = requests.get(query_url, headers=header).json()\n",
    "        #Create an empty dictionary to populate with data from the json\n",
    "        capex_dict = {}\n",
    "        filings = response[\"facts\"][\"us-gaap\"][\"PaymentsToAcquireProductiveAssets\"][\"units\"][\"USD\"]\n",
    "        for filing in filings:\n",
    "                files = filing[\"form\"]\n",
    "                year = filing[\"fy\"]\n",
    "                val = filing[\"val\"]\n",
    "                start = filing[\"start\"]\n",
    "                end = filing[\"end\"]\n",
    "                if files == \"10-K\" and filing['fy'] == 2019:\n",
    "                    capex_dict[\"entity_name\"] = response[\"entityName\"]\n",
    "                    capex_dict[\"cik\"] = response[\"cik\"]\n",
    "                    capex_dict[\"year\"] = year\n",
    "                    capex_dict[\"form\"] = files\n",
    "                    capex_dict[\"val\"] = val\n",
    "                    capex_dict[\"start\"] = start\n",
    "                    capex_dict[\"end\"] = end\n",
    "        capex_filing.append(capex_dict)\n",
    "        counter += 1\n",
    "        if counter == 9:\n",
    "            time.sleep(10)\n",
    "            counter = 0\n",
    "        print(capex_dict)\n",
    "    except: print(f'{cik} not found, Skipping')"
   ]
  },
  {
   "cell_type": "markdown",
   "id": "9eb9f6f8",
   "metadata": {},
   "source": [
    "# Code Testing and Other tries"
   ]
  },
  {
   "cell_type": "code",
   "execution_count": null,
   "id": "f5699f6b",
   "metadata": {},
   "outputs": [],
   "source": [
    "capex_filing"
   ]
  },
  {
   "cell_type": "code",
   "execution_count": null,
   "id": "b92d3410",
   "metadata": {},
   "outputs": [],
   "source": [
    "df2 = pd.DataFrame.from_records(capex_filing)"
   ]
  },
  {
   "cell_type": "code",
   "execution_count": null,
   "id": "f243ae15",
   "metadata": {},
   "outputs": [],
   "source": [
    "df2.to_csv(\"capex_2019_test.csv\", index=False)"
   ]
  },
  {
   "cell_type": "code",
   "execution_count": null,
   "id": "587dd364",
   "metadata": {},
   "outputs": [],
   "source": [
    "for cik in cik_list:\n",
    "    try:\n",
    "        query_url = base_url+cik+\".json\"\n",
    "        response = requests.get(query_url, headers=header).json()\n",
    "        #Create an empty dictionary to populate with data from the json\n",
    "        capex_dict = {}\n",
    "        filing = response[\"facts\"][\"us-gaap\"][\"PaymentsToAcquireProductiveAssets\"][\"units\"][\"USD\"]\n",
    "        for filing in filings:\n",
    "                files = filing[\"form\"]\n",
    "                year = filing[\"fy\"]\n",
    "                val = filing[\"val\"]\n",
    "                start = filing[\"start\"]\n",
    "                end = filing[\"end\"]\n",
    "        if files == \"10-K\" and year == 2018:\n",
    "            capex_dict[\"entity_name\"] = response[\"entityName\"]\n",
    "            capex_dict[\"cik\"] = response[\"cik\"]\n",
    "            capex_dict[\"year\"] = year\n",
    "            capex_dict[\"form\"] = files\n",
    "            capex_dict[\"val\"] = val\n",
    "            capex_dict[\"start\"] = start\n",
    "            capex_dict[\"end\"] = end\n",
    "        capex_filing.append(capex_dict)\n",
    "        counter += 1\n",
    "        if counter == 9:\n",
    "            time.sleep(10)\n",
    "            counter = 0\n",
    "        print(capex_filing)\n",
    "    except: print(\"URL not found, Skipping\")"
   ]
  },
  {
   "cell_type": "code",
   "execution_count": null,
   "id": "f5160c92",
   "metadata": {},
   "outputs": [],
   "source": [
    "capex_filing"
   ]
  },
  {
   "cell_type": "code",
   "execution_count": null,
   "id": "466d28dc",
   "metadata": {},
   "outputs": [],
   "source": [
    "query_url = base_url+\"0000732712\"+\".json\"\n",
    "response = requests.get(query_url, headers=header).json()\n",
    "#Create an empty dictionary to populate with data from the json\n",
    "filings = response[\"facts\"][\"us-gaap\"][\"PaymentsToAcquireProductiveAssets\"][\"units\"][\"USD\"]\n",
    "\n",
    "for filing in filings:\n",
    "    files = filing[\"form\"]\n",
    "    year = filing[\"fy\"]\n",
    "    val = filing[\"val\"]\n",
    "    start = filing[\"start\"]\n",
    "    end = filing[\"end\"]\n",
    "\n",
    "    \n",
    "print(files)"
   ]
  },
  {
   "cell_type": "code",
   "execution_count": null,
   "id": "6714922a",
   "metadata": {},
   "outputs": [],
   "source": [
    "capex_filing = []\n",
    "#make a counter\n",
    "counter = 0\n",
    "group = 1\n",
    "ciks = df[\"CIK\"].tolist()\n",
    "base_url = \"https://data.sec.gov/api/xbrl/companyfacts/CIK\"\n",
    "header={'User-Agent': 'jshapiro@ppionline.com'}"
   ]
  },
  {
   "cell_type": "code",
   "execution_count": null,
   "id": "d2d4f7a2",
   "metadata": {},
   "outputs": [],
   "source": [
    "query_url = base_url+\"0000732712\"+\".json\"\n",
    "query_url"
   ]
  },
  {
   "cell_type": "code",
   "execution_count": null,
   "id": "5092707e",
   "metadata": {},
   "outputs": [],
   "source": [
    "response = requests.get(query_url, headers=header).json()\n",
    "print(response[\"cik\"])"
   ]
  },
  {
   "cell_type": "code",
   "execution_count": null,
   "id": "026ae049",
   "metadata": {},
   "outputs": [],
   "source": [
    "capex_dict = {}\n",
    "filings = response[\"facts\"][\"us-gaap\"][\"PaymentsToAcquireProductiveAssets\"][\"units\"][\"USD\"]\n",
    "for filing in filings:\n",
    "        files = filing[\"form\"]\n",
    "        year = filing[\"fy\"]\n",
    "        val = filing[\"val\"]\n",
    "        start = filing[\"start\"]\n",
    "        end = filing[\"end\"]\n",
    "        if filing[\"form\"] == \"10-K\" and filing[\"fy\"] == 2018:\n",
    "            capex_dict[\"entityName\"] = response[\"entityName\"]\n",
    "            capex_dict[\"cik\"] = response[\"cik\"] \n",
    "            capex_dict[\"year\"] = year\n",
    "            capex_dict[\"form\"] = files\n",
    "            capex_dict[\"val\"] = val\n",
    "            capex_dict[\"start\"] = start\n",
    "            capex_dict[\"end\"] = end"
   ]
  },
  {
   "cell_type": "code",
   "execution_count": null,
   "id": "605b7117",
   "metadata": {},
   "outputs": [],
   "source": [
    "capex_dict"
   ]
  },
  {
   "cell_type": "code",
   "execution_count": null,
   "id": "1864cdc2",
   "metadata": {},
   "outputs": [],
   "source": []
  }
 ],
 "metadata": {
  "kernelspec": {
   "display_name": "Python 3 (ipykernel)",
   "language": "python",
   "name": "python3"
  },
  "language_info": {
   "codemirror_mode": {
    "name": "ipython",
    "version": 3
   },
   "file_extension": ".py",
   "mimetype": "text/x-python",
   "name": "python",
   "nbconvert_exporter": "python",
   "pygments_lexer": "ipython3",
   "version": "3.9.7"
  }
 },
 "nbformat": 4,
 "nbformat_minor": 5
}
